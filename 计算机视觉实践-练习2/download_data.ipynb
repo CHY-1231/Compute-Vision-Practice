{
 "cells": [
  {
   "cell_type": "code",
   "execution_count": 1,
   "id": "57fad14f",
   "metadata": {},
   "outputs": [
    {
     "name": "stdout",
     "output_type": "stream",
     "text": [
      "Downloading data from https://mindspore-website.obs.cn-north-4.myhuaweicloud.com/notebook/datasets/MNIST_Data.zip (10.3 MB)\n",
      "\n",
      "file_sizes: 100%|██████████████████████████| 10.8M/10.8M [00:00<00:00, 19.6MB/s]\n",
      "Extracting zip file...\n",
      "Successfully downloaded / unzipped to ./\n"
     ]
    }
   ],
   "source": [
    "# 导入download函数\n",
    "from download import download\n",
    "\n",
    "# 定义需要下载的文件的URL\n",
    "url = \"https://mindspore-website.obs.cn-north-4.myhuaweicloud.com/\" \\\n",
    "      \"notebook/datasets/MNIST_Data.zip\"\n",
    "\n",
    "# 调用download函数，从指定URL下载文件\n",
    "# 参数说明：\n",
    "# url: 文件在服务器上的地址；\n",
    "# path: 保存文件的本地路径；\n",
    "# kind: 文件类型，此处为zip；\n",
    "# replace: 是否覆盖同名文件，此处为True表示覆盖\n",
    "path = download(url, \"./\", kind=\"zip\", replace=True)\n",
    "# 下载完成后，返回文件的本地路径"
   ]
  },
  {
   "cell_type": "code",
   "execution_count": null,
   "id": "75f5fbd4",
   "metadata": {},
   "outputs": [],
   "source": []
  }
 ],
 "metadata": {
  "kernelspec": {
   "display_name": "Python [conda env:ms]",
   "language": "python",
   "name": "conda-env-ms-py"
  },
  "language_info": {
   "codemirror_mode": {
    "name": "ipython",
    "version": 3
   },
   "file_extension": ".py",
   "mimetype": "text/x-python",
   "name": "python",
   "nbconvert_exporter": "python",
   "pygments_lexer": "ipython3",
   "version": "3.8.19"
  }
 },
 "nbformat": 4,
 "nbformat_minor": 5
}
