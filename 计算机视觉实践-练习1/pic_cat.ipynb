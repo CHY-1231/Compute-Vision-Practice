{
 "cells": [
  {
   "cell_type": "code",
   "execution_count": 1,
   "id": "05cb4971",
   "metadata": {},
   "outputs": [],
   "source": [
    "import mindspore"
   ]
  },
  {
   "cell_type": "code",
   "execution_count": 2,
   "id": "9eba8b3a",
   "metadata": {
    "scrolled": true
   },
   "outputs": [
    {
     "name": "stdout",
     "output_type": "stream",
     "text": [
      "MindSpore version:  2.1.1\n",
      "The result of multiplication calculation is correct, MindSpore has been installed on platform [CPU] successfully!\n"
     ]
    }
   ],
   "source": [
    "mindspore.set_context(device_target='CPU')\n",
    "mindspore.run_check()"
   ]
  },
  {
   "cell_type": "code",
   "execution_count": 3,
   "id": "792238f5",
   "metadata": {},
   "outputs": [],
   "source": [
    "import cv2\n",
    "import numpy as np\n",
    "import os"
   ]
  },
  {
   "cell_type": "code",
   "execution_count": 4,
   "id": "cb9f7bf5",
   "metadata": {},
   "outputs": [
    {
     "name": "stdout",
     "output_type": "stream",
     "text": [
      "[INFO] adding images.........................\n"
     ]
    }
   ],
   "source": [
    "# 初始化：读取文件夹中的所有图片\n",
    "print(\"[INFO] adding images.........................\")\n",
    "path = \"Images\"  # 指定图片文件夹路径\n",
    "images = []  # 存储读取的图片\n",
    "for filename in os.listdir(path):\n",
    "    filenames = path + '\\\\' + filename\n",
    "    img_orig = cv2.imread(filenames, 1)  # 读取图片，1表示保留图片颜色信息\n",
    "    if img_orig is None:\n",
    "        print(\"Warning: No Pictures\")\n",
    "    else:\n",
    "        images.append(img_orig)"
   ]
  },
  {
   "cell_type": "code",
   "execution_count": 5,
   "id": "18e85b6e",
   "metadata": {},
   "outputs": [
    {
     "name": "stdout",
     "output_type": "stream",
     "text": [
      "[INFO] stitching images.........................\n"
     ]
    }
   ],
   "source": [
    "# 使用OpenCV进行图像拼接\n",
    "print(\"[INFO] stitching images.........................\")\n",
    "stitcher = cv2.Stitcher.create(cv2.Stitcher_PANORAMA)  # 创建图像拼接器\n",
    "status, pano = stitcher.stitch(images)  # 执行拼接"
   ]
  },
  {
   "cell_type": "code",
   "execution_count": 6,
   "id": "36e400cd",
   "metadata": {},
   "outputs": [
    {
     "name": "stdout",
     "output_type": "stream",
     "text": [
      "[INFO] cropping images.........................\n"
     ]
    }
   ],
   "source": [
    "print(\"[INFO] cropping images.........................\")\n",
    "if status == cv2.Stitcher_OK:\n",
    "    # 对拼接后的图像进行处理，提取全景图轮廓并进行裁剪，以去除多余的部分\n",
    "    stitched = cv2.copyMakeBorder(pano, 10, 10, 10, 10, cv2.BORDER_CONSTANT, (0, 0, 0))  # 添加边界\n",
    "    gray = cv2.cvtColor(stitched, cv2.COLOR_BGR2GRAY)  # 转换为灰度图\n",
    "    thresh = cv2.threshold(gray, 0, 255, cv2.THRESH_BINARY)[1]  # 二值化处理\n",
    "    cnts = cv2.findContours(thresh, cv2.RETR_EXTERNAL, cv2.CHAIN_APPROX_SIMPLE)[0]  # 提取轮廓\n",
    "\n",
    "    # 计算轮廓的最小外接矩形，并创建掩膜以移除该矩形外的区域\n",
    "    mask = np.zeros(thresh.shape, dtype=\"uint8\")\n",
    "    (x, y, w, h) = cv2.boundingRect(cnts[0])\n",
    "    cv2.rectangle(mask, (x, y), (x + w, y + h), 255, -1)\n",
    "\n",
    "    # 使用腐蚀操作移除最小外接矩形外部的像素，直到该矩形内所有像素值为0\n",
    "    minRect = mask.copy()\n",
    "    sub = mask.copy()\n",
    "    while cv2.countNonZero(sub) > 0:\n",
    "        minRect = cv2.erode(minRect, None)\n",
    "        sub = cv2.subtract(minRect, thresh)\n",
    "\n",
    "    # 再次提取轮廓并裁剪拼接后的图像，以得到最终的全景图\n",
    "    cnts = cv2.findContours(minRect, cv2.RETR_EXTERNAL, cv2.CHAIN_APPROX_SIMPLE)[0]\n",
    "    (x, y, w, h) = cv2.boundingRect(cnts[0])\n",
    "    stitched = stitched[y:y + h, x:x + w]\n",
    "\n",
    "    # 显示最终的全景图\n",
    "    cv2.imshow('stitched', stitched)\n",
    "    # cv2.imwrite('stitched.jpg', stitched)  # 保存全景图\n",
    "    cv2.waitKey(0)  # 等待按键退出\n",
    "    cv2.destroyAllWindows()\n",
    "else:\n",
    "    print('图像匹配的特征点不足')"
   ]
  },
  {
   "cell_type": "code",
   "execution_count": null,
   "id": "330baf80",
   "metadata": {},
   "outputs": [],
   "source": []
  }
 ],
 "metadata": {
  "kernelspec": {
   "display_name": "Python [conda env:mindspore_py38] *",
   "language": "python",
   "name": "conda-env-mindspore_py38-py"
  },
  "language_info": {
   "codemirror_mode": {
    "name": "ipython",
    "version": 3
   },
   "file_extension": ".py",
   "mimetype": "text/x-python",
   "name": "python",
   "nbconvert_exporter": "python",
   "pygments_lexer": "ipython3",
   "version": "3.8.19"
  }
 },
 "nbformat": 4,
 "nbformat_minor": 5
}
